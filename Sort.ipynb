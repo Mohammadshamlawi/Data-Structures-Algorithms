{
  "nbformat": 4,
  "nbformat_minor": 0,
  "metadata": {
    "colab": {
      "provenance": []
    },
    "kernelspec": {
      "name": "python3",
      "display_name": "Python 3"
    },
    "language_info": {
      "name": "python"
    }
  },
  "cells": [
    {
      "cell_type": "markdown",
      "source": [
        "# **Selection Sort**"
      ],
      "metadata": {
        "id": "s9A07OUWwpLw"
      }
    },
    {
      "cell_type": "code",
      "execution_count": null,
      "metadata": {
        "id": "3k36Pv3wm9Mi"
      },
      "outputs": [],
      "source": [
        "def selection(a):\n",
        "  for i in range(0, len(a) - 1):\n",
        "    i_min = i\n",
        "    for j in range(i + 1, len(a)):\n",
        "      if a[j] < a[i_min]:\n",
        "        i_min = j\n",
        "    \n",
        "    temp = a[i]\n",
        "    a[i] = a[i_min]\n",
        "    a[i_min] = temp\n",
        "  \n",
        "  return a"
      ]
    },
    {
      "cell_type": "code",
      "source": [
        "selection([1,4,0,2,9,2])"
      ],
      "metadata": {
        "colab": {
          "base_uri": "https://localhost:8080/"
        },
        "id": "rFgceVLKnm_R",
        "outputId": "3711e097-6985-4e83-f9e4-dc511f48123d"
      },
      "execution_count": null,
      "outputs": [
        {
          "output_type": "execute_result",
          "data": {
            "text/plain": [
              "[0, 1, 2, 2, 4, 9]"
            ]
          },
          "metadata": {},
          "execution_count": 4
        }
      ]
    }
  ]
}