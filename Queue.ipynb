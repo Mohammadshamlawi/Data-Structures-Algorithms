{
  "nbformat": 4,
  "nbformat_minor": 0,
  "metadata": {
    "colab": {
      "provenance": []
    },
    "kernelspec": {
      "name": "python3",
      "display_name": "Python 3"
    },
    "language_info": {
      "name": "python"
    }
  },
  "cells": [
    {
      "cell_type": "code",
      "execution_count": null,
      "metadata": {
        "id": "2H3FxFXZfiZ6"
      },
      "outputs": [],
      "source": [
        "class Queue:\n",
        "  def __init__(self, size):\n",
        "    self.front = -1\n",
        "    self.rear = -1\n",
        "    self.items = [None] * size\n",
        "  \n",
        "  def printQueue(self):\n",
        "    for i in range(self.front, self.rear + 1):\n",
        "      print(self.items[i])\n",
        "  \n",
        "  def EnQueue(self, item):\n",
        "    if self.isEmpty():\n",
        "      self.front = 0\n",
        "    \n",
        "    self.rear += 1\n",
        "    self.items[self.rear] = item\n",
        "\n",
        "  def DeQueue(self):\n",
        "    if self.isEmpty():\n",
        "      raise Exception(\"Queue is empty\")\n",
        "    elif self.front >= self.rear:\n",
        "      self.items[self.front] = None\n",
        "      self.items[self.rear] = None\n",
        "      self.front = self.rear = -1\n",
        "    else:\n",
        "      self.front += 1\n",
        "\n",
        "  def getFront(self):\n",
        "    return self.items[self.front]\n",
        "\n",
        "  def getRear(self):\n",
        "    return self.items[self.rear]\n",
        "\n",
        "  def isEmpty(self):\n",
        "    if self.front == -1:\n",
        "      return True\n",
        "    else:\n",
        "      return False"
      ]
    },
    {
      "cell_type": "code",
      "source": [
        "myQueue = Queue(5)\n",
        "myQueue.EnQueue(8)\n",
        "print(myQueue.getFront())\n",
        "myQueue.EnQueue(2)\n",
        "print(myQueue.getFront())\n",
        "myQueue.EnQueue(\"Third\")\n",
        "myQueue.DeQueue()\n",
        "print(myQueue.getFront())\n",
        "myQueue.DeQueue()\n",
        "print(myQueue.getFront())\n",
        "myQueue.DeQueue()\n",
        "print(myQueue.getFront())\n",
        "myQueue.EnQueue(3)\n",
        "print(myQueue.getFront())\n",
        "myQueue.EnQueue(10)\n",
        "print(myQueue.getFront())\n",
        "myQueue.EnQueue(2)\n",
        "print(myQueue.getFront())\n",
        "# myQueue.DeQueue()\n",
        "# myQueue.DeQueue()\n",
        "# myQueue.DeQueue()\n",
        "# print(myQueue.getFront())\n",
        "myQueue.printQueue()"
      ],
      "metadata": {
        "colab": {
          "base_uri": "https://localhost:8080/"
        },
        "id": "DBgl8dNsocPv",
        "outputId": "627cde48-8c4d-4673-e0cf-b309a133383b"
      },
      "execution_count": null,
      "outputs": [
        {
          "output_type": "stream",
          "name": "stdout",
          "text": [
            "8\n",
            "8\n",
            "2\n",
            "Third\n",
            "None\n",
            "3\n",
            "3\n",
            "3\n",
            "3\n",
            "10\n",
            "2\n"
          ]
        }
      ]
    },
    {
      "cell_type": "markdown",
      "source": [
        "## **Queue using LinkedList**"
      ],
      "metadata": {
        "id": "EZhVNyaAvM1Q"
      }
    },
    {
      "cell_type": "code",
      "source": [
        "class Node:\n",
        "  def __init__(self, data = None, next = None):\n",
        "    self.data = data\n",
        "    self.next = next"
      ],
      "metadata": {
        "id": "aFz5eT8QvMBF"
      },
      "execution_count": null,
      "outputs": []
    },
    {
      "cell_type": "code",
      "source": [
        "class QueueLinkedList:\n",
        "  def __init__(self, head = None):\n",
        "    self.head = head\n",
        "    self.rear = head\n",
        "  \n",
        "  def printQueue(self):\n",
        "    current = self.head\n",
        "    while current.next != None:\n",
        "      print(current.data)\n",
        "      current = current.next\n",
        "\n",
        "  def EnQueue(self, item):\n",
        "    if self.isEmpty():\n",
        "      self.head = Node(item)\n",
        "    elif self.head == self.rear:\n",
        "      self.rear = Node(item)\n",
        "      self.head.next = self.rear\n",
        "    else:\n",
        "      oldRear = self.rear\n",
        "      self.rear = Node(item)\n",
        "      oldRear.next = self.rear\n",
        "\n",
        "  def DeQueue(self):\n",
        "    if self.isEmpty():\n",
        "      raise Exception(\"Queue is empty\")\n",
        "    elif self.head == self.rear:\n",
        "      self.head = None\n",
        "      self.rear = None\n",
        "    else:\n",
        "      nextNode = self.head.next\n",
        "      self.head.next = None\n",
        "      self.head = nextNode\n",
        "\n",
        "  def getFront(self):\n",
        "    return self.head\n",
        "\n",
        "  def isEmpty(self):\n",
        "    if self.head == None:\n",
        "      return True\n",
        "    else:\n",
        "      return False"
      ],
      "metadata": {
        "id": "6qR5UY5auwcq"
      },
      "execution_count": null,
      "outputs": []
    },
    {
      "cell_type": "markdown",
      "source": [
        "## **Queue using Circular Array**"
      ],
      "metadata": {
        "id": "GVja1U-Mttf3"
      }
    },
    {
      "cell_type": "code",
      "source": [
        "class Queue:\n",
        "  def __init__(self, size):\n",
        "    self.front = -1\n",
        "    self.rear = -1\n",
        "    self.items = [None] * size\n",
        "  \n",
        "  def printQueue(self):\n",
        "    for i in range(self.front, self.rear + 1):\n",
        "      print(self.items[i])\n",
        "  \n",
        "  def EnQueue(self, item):\n",
        "    if self.isFull():\n",
        "      raise Exception(\"Queue is full\")\n",
        "    elif self.isEmpty():\n",
        "      self.front = self.rear = 0\n",
        "    else:\n",
        "      self.increaseRear()\n",
        "    \n",
        "    self.items[self.rear] = item\n",
        "\n",
        "  def DeQueue(self):\n",
        "    if self.isEmpty():\n",
        "      raise Exception(\"Queue is empty\")\n",
        "    elif self.front >= self.rear:\n",
        "      self.front = self.rear = -1\n",
        "    else:\n",
        "      self.increaseFront()\n",
        "\n",
        "  def getFront(self):\n",
        "    return self.items[self.front]\n",
        "\n",
        "  def getRear(self):\n",
        "    return self.items[self.rear]\n",
        "\n",
        "  def isEmpty(self):\n",
        "    if self.front == -1:\n",
        "      return True\n",
        "    else:\n",
        "      return False\n",
        "\n",
        "  def isFull(self):\n",
        "    if ((self.rear + 1) % self.getSize()) == self.front:\n",
        "      return True\n",
        "    else:\n",
        "      return False\n",
        "\n",
        "  def getSize(self):\n",
        "    return len(self.items)\n",
        "  \n",
        "  def increaseFront(self):\n",
        "    self.front = (self.front + 1) % self.getSize()\n",
        "\n",
        "  def increaseRear(self):\n",
        "    self.rear = (self.rear + 1) % self.getSize()"
      ],
      "metadata": {
        "id": "NSw_U6n8t0o2"
      },
      "execution_count": null,
      "outputs": []
    }
  ]
}