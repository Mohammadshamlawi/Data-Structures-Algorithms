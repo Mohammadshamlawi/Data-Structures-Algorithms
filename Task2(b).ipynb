{
  "nbformat": 4,
  "nbformat_minor": 0,
  "metadata": {
    "colab": {
      "provenance": []
    },
    "kernelspec": {
      "name": "python3",
      "display_name": "Python 3"
    },
    "language_info": {
      "name": "python"
    }
  },
  "cells": [
    {
      "cell_type": "code",
      "source": [
        "# Function that takes a graph and source, uses Dijkstra algorithm to find \n",
        "# shortest path from source to all other vertices\n",
        "def graphDijkstra(graph, source_vertex):\n",
        "  # Get length of graph, which is number of vertices\n",
        "  n = len(graph)\n",
        "\n",
        "  # Handle empty and or no value graphs\n",
        "  if graph == None or n == 0:\n",
        "    raise Exception('Graph not provided')\n",
        "\n",
        "  # Handle incomplete sizes of lists inside graph, to make sure it is an adjacency matrix\n",
        "  # number of columns do not equal number of rows\n",
        "  for i in range(0, n):\n",
        "    if len(graph[i]) != n:\n",
        "      raise Exception('Columns should have same size as Rows in adjacency matrix')\n",
        "\n",
        "  # Handle incorrect graph or source vertex passed\n",
        "  if source_vertex >= n:\n",
        "    raise Exception('Source provided is out of bounds')\n",
        "\n",
        "  # Initialize inf value with value infinity\n",
        "  inf = float(\"inf\")\n",
        "\n",
        "  # Intialize distances of vertices with infinity value, and set source vertex distance to itself to 0\n",
        "  distances = [inf] * n\n",
        "  distances[source_vertex] = 0\n",
        "\n",
        "  # visited list to save already visited vertices, to not repeat them\n",
        "  visited = [None] * n\n",
        "  # previous list to store the previous vertex of each path to each vertex.\n",
        "  previous = [None] * n\n",
        "\n",
        "  # loop to iterate through all vertices\n",
        "  for i in range(0, n):\n",
        "    # Intialize next variable with value -1 to save the vertex with the \n",
        "    # shortest path from current vertex, which is i\n",
        "    next = -1\n",
        "    # iterate through all vertices to find the shortest connected path\n",
        "    for j in range(0, n):\n",
        "      # check if vertex has already been visited, or if the distance to \n",
        "      # vertex j is smaller than saved distance\n",
        "      if (distances[j] < distances[next] or next == -1) and visited[j] == None:\n",
        "        # set next vertex as vertex j with shortest path\n",
        "        next = j\n",
        "    \n",
        "    # add next vertex to visited to repeat it\n",
        "    visited[next] = next\n",
        "    # iterate through all vertices to relax distances, and save previous vertex\n",
        "    for j in range(0, n):\n",
        "      # make sure that there is a path between vertices, and that \n",
        "      # overall distance is less than distance saved\n",
        "      if graph[next][j] != inf and (distances[next] + graph[next][j]) < distances[j]:\n",
        "        # update to new distance\n",
        "        distances[j] = distances[next] + graph[next][j]\n",
        "        previous[j] = next # save previous vertex for paths of all vertices\n",
        "  # return distances and previous vertices of these distances\n",
        "  return [distances, previous]\n"
      ],
      "metadata": {
        "id": "SuwMdGA5ulT_"
      },
      "execution_count": null,
      "outputs": []
    },
    {
      "cell_type": "code",
      "execution_count": null,
      "metadata": {
        "colab": {
          "base_uri": "https://localhost:8080/"
        },
        "id": "xEZcBlX5t5w5",
        "outputId": "b563c342-721f-43bb-be01-77f081e1a057"
      },
      "outputs": [
        {
          "output_type": "stream",
          "name": "stdout",
          "text": [
            "From Zarqa to Madaba has a distance of 77 with previous vertex Amman\n",
            "From Zarqa to Amman has a distance of 46 with previous vertex Zarqa\n",
            "From Zarqa to Zarqa has a distance of 0\n",
            "From Zarqa to Irbed has a distance of 89 with previous vertex Zarqa\n",
            "From Zarqa to Aqaba has a distance of 379 with previous vertex Amman\n",
            "From Zarqa to Tafilah has a distance of 230 with previous vertex Amman\n"
          ]
        }
      ],
      "source": [
        "inf = float(\"inf\")\n",
        "graphMatrix = [[inf, 31 , inf, inf, inf, inf],\n",
        "               [31 , inf, 46 , 88 , 333, 184],\n",
        "               [inf, 46 , inf, 89 , inf, inf],\n",
        "               [inf, 88 , 89 , inf, inf, inf],\n",
        "               [inf, 333, inf, inf, inf, 206],\n",
        "               [inf, 184, inf, inf, 206, inf]]\n",
        "cities = ['Madaba', 'Amman', 'Zarqa', 'Irbed', 'Aqaba', 'Tafilah']\n",
        "source = 2\n",
        "distances = graphDijkstra(graphMatrix, source)\n",
        "for i in range(0, len(distances[0])):\n",
        "  if (distances[1])[i] == None:\n",
        "    print('From', cities[source], 'to', cities[i], 'has a distance of', (distances[0])[i])\n",
        "  else:\n",
        "    print('From', cities[source], 'to', cities[i], 'has a distance of', (distances[0])[i], 'with previous vertex', cities[(distances[1])[i]])"
      ]
    }
  ]
}