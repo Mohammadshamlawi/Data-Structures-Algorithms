{
  "nbformat": 4,
  "nbformat_minor": 0,
  "metadata": {
    "colab": {
      "provenance": []
    },
    "kernelspec": {
      "name": "python3",
      "display_name": "Python 3"
    },
    "language_info": {
      "name": "python"
    }
  },
  "cells": [
    {
      "cell_type": "code",
      "source": [
        "class MyClass:\n",
        "  a = 1"
      ],
      "metadata": {
        "id": "orLkyabhza_4"
      },
      "execution_count": null,
      "outputs": []
    },
    {
      "cell_type": "code",
      "source": [
        "object1 = MyClass()\n",
        "print(object1.a)"
      ],
      "metadata": {
        "colab": {
          "base_uri": "https://localhost:8080/"
        },
        "id": "PjdjwG9neGMy",
        "outputId": "53a412ef-95e2-4887-a553-867ea29c75b5"
      },
      "execution_count": null,
      "outputs": [
        {
          "output_type": "stream",
          "name": "stdout",
          "text": [
            "1\n"
          ]
        }
      ]
    },
    {
      "cell_type": "code",
      "source": [
        "class Contact:\n",
        "  def __init__(self, firstName, lastName):\n",
        "    self.firstName = firstName\n",
        "    self.lastName = lastName"
      ],
      "metadata": {
        "id": "My0EodZMfQwc"
      },
      "execution_count": null,
      "outputs": []
    },
    {
      "cell_type": "code",
      "source": [
        "object1 = Contact(\"First name\", \"and last name\") # Contact(object1, \"First name\", \"and last name\")\n",
        "print(object1.firstName, object1.lastName)"
      ],
      "metadata": {
        "colab": {
          "base_uri": "https://localhost:8080/"
        },
        "id": "ebT-4ExqfsA6",
        "outputId": "b438afb5-c3bc-458f-b0d9-fae01629d33c"
      },
      "execution_count": null,
      "outputs": [
        {
          "output_type": "stream",
          "name": "stdout",
          "text": [
            "First name and last name\n"
          ]
        }
      ]
    },
    {
      "cell_type": "code",
      "source": [
        "class student:\n",
        "  def __init__(self, name):\n",
        "      self.name = name\n",
        "  \n",
        "  def printName(self):\n",
        "    print(self.name)\n",
        "  \n",
        "  def printName2(self, lastName):\n",
        "    print(self.name, lastName)"
      ],
      "metadata": {
        "id": "LqVX1OVJiuxP"
      },
      "execution_count": null,
      "outputs": []
    },
    {
      "cell_type": "code",
      "source": [
        "AhmadStudent = student(\"Ahmad\")\n",
        "AhmadStudent.printName2(\"name\")"
      ],
      "metadata": {
        "colab": {
          "base_uri": "https://localhost:8080/"
        },
        "id": "PiK4uQKajCB4",
        "outputId": "07ccd3de-1a70-4f3b-9911-f8eeb8cf7c65"
      },
      "execution_count": null,
      "outputs": [
        {
          "output_type": "stream",
          "name": "stdout",
          "text": [
            "Ahmad name\n"
          ]
        }
      ]
    },
    {
      "cell_type": "code",
      "source": [
        "class Array:\n",
        "  def __init__ (self, size):\n",
        "    self.end = -1\n",
        "    self.size = size\n",
        "    self.items = [None] * size\n",
        "\n",
        "  def count(self):\n",
        "    return self.end + 1\n",
        "\n",
        "  def append(self, item):\n",
        "    self.end += 1\n",
        "    self.items[self.end] = item\n",
        "\n",
        "  def add(self, item, index):\n",
        "    if self.isOutOfBounds(index):\n",
        "      self.printMessage(\"Index out of bounds of Array\")\n",
        "    else:\n",
        "      for num in range(self.end, index - 1, -1):\n",
        "        self.items[num + 1] = self.items[num]\n",
        "      self.items[index] = item\n",
        "      self.end += 1\n",
        "    \n",
        "  def remove(self, index):\n",
        "    if self.isOutOfBounds(index):\n",
        "      self.printMessage(\"Index out of bounds of Array\")\n",
        "    else:\n",
        "      for num in range(index, self.end + 1):\n",
        "        self.items[num] = self.items[num + 1]\n",
        "      self.items[self.end] = None\n",
        "      self.end -= 1\n",
        "\n",
        "  def get(self, index):\n",
        "    if self.isOutOfBounds(index):\n",
        "      self.printMessage(\"Index out of bounds of Array\")\n",
        "    else:\n",
        "      return self.items[index]\n",
        "\n",
        "  def setByIndex(self, index, item):\n",
        "    if index < self.end and index >= 0:\n",
        "      self.items[index] = item\n",
        "  \n",
        "  def printList(self):\n",
        "    for num in range(0, self.end + 1):\n",
        "      print(self.items[num])\n",
        "  \n",
        "  def getLastIndex(self):\n",
        "    return self.end\n",
        "  \n",
        "  def isOutOfBounds(self, index):\n",
        "    return index > self.end + 1 or index < 0\n",
        "\n",
        "  def printMessage(self, message):\n",
        "    print(message)\n"
      ],
      "metadata": {
        "id": "fQ17xTnImlDc"
      },
      "execution_count": null,
      "outputs": []
    },
    {
      "cell_type": "code",
      "source": [
        "list1 = Array(4)\n",
        "# print(list1.count())\n",
        "list1.append(5)\n",
        "# list1.add(\"GG\", list1.getLastIndex())\n",
        "# print(list1.get(0))\n",
        "list1.add(6, 2)\n",
        "# print(list1.get(0))\n",
        "# print(list1.get(1))\n",
        "# list1.remove(1)\n",
        "# list1.setByIndex(0, 10)\n",
        "list1.printList()"
      ],
      "metadata": {
        "colab": {
          "base_uri": "https://localhost:8080/"
        },
        "id": "6PmkEDj4wyvo",
        "outputId": "cbde97fd-41b6-4180-9ad5-9e96475d339d"
      },
      "execution_count": null,
      "outputs": [
        {
          "output_type": "stream",
          "name": "stdout",
          "text": [
            "Index out of bounds of Array\n",
            "5\n"
          ]
        }
      ]
    }
  ]
}