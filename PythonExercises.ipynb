{
  "nbformat": 4,
  "nbformat_minor": 0,
  "metadata": {
    "colab": {
      "provenance": []
    },
    "kernelspec": {
      "name": "python3",
      "display_name": "Python 3"
    },
    "language_info": {
      "name": "python"
    }
  },
  "cells": [
    {
      "cell_type": "markdown",
      "source": [
        "# **Exercise 1**"
      ],
      "metadata": {
        "id": "4xNVqu4TAGnk"
      }
    },
    {
      "cell_type": "code",
      "execution_count": null,
      "metadata": {
        "id": "wzquJ6SK-oTi"
      },
      "outputs": [],
      "source": [
        "a = [1, 2, -3, 4, -5, 6, 7]"
      ]
    },
    {
      "cell_type": "code",
      "source": [
        "sum = 0\n",
        "for i in a:\n",
        "  sum = sum + i if i > 0 else sum\n",
        "\n",
        "print(sum)"
      ],
      "metadata": {
        "colab": {
          "base_uri": "https://localhost:8080/"
        },
        "id": "V-8Eb4OiARRe",
        "outputId": "abaa5c0d-2f58-403a-d84e-d87d62dbb70e"
      },
      "execution_count": null,
      "outputs": [
        {
          "output_type": "stream",
          "name": "stdout",
          "text": [
            "20\n"
          ]
        }
      ]
    },
    {
      "cell_type": "code",
      "source": [
        "b = a+a\n",
        "print(b)\n",
        "b[::-1]"
      ],
      "metadata": {
        "colab": {
          "base_uri": "https://localhost:8080/"
        },
        "id": "kQjqonnTAlPq",
        "outputId": "90456041-a01c-4323-e03c-d3b9b049f581"
      },
      "execution_count": null,
      "outputs": [
        {
          "output_type": "stream",
          "name": "stdout",
          "text": [
            "[1, 2, -3, 4, -5, 6, 7, 1, 2, -3, 4, -5, 6, 7]\n"
          ]
        },
        {
          "output_type": "execute_result",
          "data": {
            "text/plain": [
              "[7, 6, -5, 4, -3, 2, 1, 7, 6, -5, 4, -3, 2, 1]"
            ]
          },
          "metadata": {},
          "execution_count": 18
        }
      ]
    },
    {
      "cell_type": "markdown",
      "source": [
        "# **Exercise 2**"
      ],
      "metadata": {
        "id": "BN2XcVQgPCXR"
      }
    },
    {
      "cell_type": "code",
      "source": [
        "min_num = a[0]\n",
        "max_num = a[0]\n",
        "for i in a:\n",
        "  min_num = i if i < min_num else min_num\n",
        "  max_num = i if i > max_num else max_num\n",
        "\n",
        "print(min_num)\n",
        "print(max_num)"
      ],
      "metadata": {
        "colab": {
          "base_uri": "https://localhost:8080/"
        },
        "id": "IfU2VhD0NOYY",
        "outputId": "86a73cf5-f61f-4bdc-fc70-3a4353167eca"
      },
      "execution_count": null,
      "outputs": [
        {
          "output_type": "stream",
          "name": "stdout",
          "text": [
            "-5\n",
            "7\n"
          ]
        }
      ]
    },
    {
      "cell_type": "code",
      "source": [
        "c.sort()\n",
        "print(c[0])\n",
        "print(c[-1])"
      ],
      "metadata": {
        "colab": {
          "base_uri": "https://localhost:8080/"
        },
        "id": "OPdXQX0ZQNcf",
        "outputId": "17c43d51-326a-4fb7-8440-f33bfd3dee1e"
      },
      "execution_count": null,
      "outputs": [
        {
          "output_type": "stream",
          "name": "stdout",
          "text": [
            "-5\n",
            "7\n"
          ]
        }
      ]
    }
  ]
}