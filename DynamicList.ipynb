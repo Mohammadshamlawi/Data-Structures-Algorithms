{
  "nbformat": 4,
  "nbformat_minor": 0,
  "metadata": {
    "colab": {
      "provenance": []
    },
    "kernelspec": {
      "name": "python3",
      "display_name": "Python 3"
    },
    "language_info": {
      "name": "python"
    }
  },
  "cells": [
    {
      "cell_type": "code",
      "execution_count": null,
      "metadata": {
        "id": "56TxC81WeCJd"
      },
      "outputs": [],
      "source": [
        "class Array:\n",
        "  def __init__ (self, size):\n",
        "    self.end = -1\n",
        "    self.size = size\n",
        "    self.items = [None] * size\n",
        "\n",
        "  def count(self):\n",
        "    return self.end + 1\n",
        "\n",
        "  def append(self, item):\n",
        "    if self.end + 1 == self.size:\n",
        "      self.doubleSize()\n",
        "\n",
        "    self.end += 1\n",
        "    self.items[self.end] = item\n",
        "\n",
        "  def add(self, item, index):\n",
        "    if self.isOutOfBounds(index):\n",
        "      self.printMessage(\"Index out of bounds of Array\")\n",
        "    else:\n",
        "      if self.end + 1 == self.size:\n",
        "        self.doubleSize()\n",
        "      \n",
        "      for num in range(self.end, index - 1, -1):\n",
        "        self.items[num + 1] = self.items[num]\n",
        "      self.items[index] = item\n",
        "      self.end += 1\n",
        "    \n",
        "  def remove(self, index):\n",
        "    if self.isOutOfBounds(index):\n",
        "      self.printMessage(\"Index out of bounds of Array\")\n",
        "    else:\n",
        "      for num in range(index, self.end + 1):\n",
        "        self.items[num] = self.items[num + 1]\n",
        "      self.items[self.end] = None\n",
        "      self.end -= 1\n",
        "\n",
        "  def get(self, index):\n",
        "    if self.isOutOfBounds(index):\n",
        "      self.printMessage(\"Index out of bounds of Array\")\n",
        "    else:\n",
        "      return self.items[index]\n",
        "\n",
        "  def setByIndex(self, index, item):\n",
        "    if index < self.end and index >= 0:\n",
        "      self.items[index] = item\n",
        "  \n",
        "  def printList(self):\n",
        "    for num in range(0, self.end + 1):\n",
        "      print(self.items[num])\n",
        "  \n",
        "  def getLastIndex(self):\n",
        "    return self.end\n",
        "  \n",
        "  def isOutOfBounds(self, index):\n",
        "    return index > self.end + 1 or index < 0\n",
        "\n",
        "  def printMessage(self, message):\n",
        "    print(message)\n",
        "  \n",
        "  def doubleSize(self):\n",
        "    newArray = [None] * (self.size * 2)\n",
        "    for i in range(self.size):\n",
        "      newArray[i] = self.items[i]\n",
        "    self.items = newArray\n",
        "    self.size = self.size * 2"
      ]
    },
    {
      "cell_type": "code",
      "source": [
        "l1 = Array(2)\n",
        "l1.append(7)\n",
        "l1.append(\"GG\")\n",
        "l1.append('test')\n",
        "l1.append(4)\n",
        "l1.add(9, 1)\n",
        "l1.items"
      ],
      "metadata": {
        "colab": {
          "base_uri": "https://localhost:8080/"
        },
        "id": "vWSkKuBjOuSp",
        "outputId": "9987d760-0b2f-411f-f8eb-a1d200015b8c"
      },
      "execution_count": null,
      "outputs": [
        {
          "output_type": "execute_result",
          "data": {
            "text/plain": [
              "[7, 9, 'GG', 'test', 4, None, None, None]"
            ]
          },
          "metadata": {},
          "execution_count": 26
        }
      ]
    }
  ]
}