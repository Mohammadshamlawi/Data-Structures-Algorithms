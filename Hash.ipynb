{
  "nbformat": 4,
  "nbformat_minor": 0,
  "metadata": {
    "colab": {
      "provenance": []
    },
    "kernelspec": {
      "name": "python3",
      "display_name": "Python 3"
    },
    "language_info": {
      "name": "python"
    }
  },
  "cells": [
    {
      "cell_type": "code",
      "source": [
        "def hash(key, n):\n",
        "  val = 0\n",
        "  for i in key:\n",
        "    val = val + ord(i)\n",
        "  return val % n\n",
        "\n",
        "def insert(key, n):\n",
        "  index = 0\n",
        "  for i in key:\n",
        "    index = index + ord(i)\n",
        "  \n",
        "  items = [None] * n\n",
        "  items[index % n] = key\n",
        "  return items"
      ],
      "metadata": {
        "id": "11udc8FCAQmm"
      },
      "execution_count": null,
      "outputs": []
    },
    {
      "cell_type": "code",
      "execution_count": null,
      "metadata": {
        "colab": {
          "base_uri": "https://localhost:8080/"
        },
        "id": "CWa6bdqR9d8b",
        "outputId": "fe3fe612-a936-449d-fde7-edd9114d4860"
      },
      "outputs": [
        {
          "output_type": "execute_result",
          "data": {
            "text/plain": [
              "[None, None, None, None, 'Mia', None, None, None, None, None, None]"
            ]
          },
          "metadata": {},
          "execution_count": 27
        }
      ],
      "source": [
        "hash('Tom', 11)\n",
        "insert('Mia', 11)"
      ]
    }
  ]
}