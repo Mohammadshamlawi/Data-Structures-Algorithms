{
  "nbformat": 4,
  "nbformat_minor": 0,
  "metadata": {
    "colab": {
      "provenance": []
    },
    "kernelspec": {
      "name": "python3",
      "display_name": "Python 3"
    },
    "language_info": {
      "name": "python"
    }
  },
  "cells": [
    {
      "cell_type": "code",
      "execution_count": null,
      "metadata": {
        "id": "j2EZ8E3XvYwM"
      },
      "outputs": [],
      "source": [
        "class Node:\n",
        "  def __init__(self, data = None, next = None):\n",
        "    self.data = data\n",
        "    self.next = next\n",
        "  \n",
        "  # def getData(self):\n",
        "  #   return self.data\n",
        "  \n",
        "  # def getNextNode(self):\n",
        "  #   return self.next"
      ]
    },
    {
      "cell_type": "code",
      "source": [
        "class DoublyNode:\n",
        "  def __init__(self, previous, data):\n",
        "    self.previous = previous\n",
        "    self.data = data\n",
        "    self.next = None\n",
        "  \n",
        "  # def getData(self):\n",
        "  #   return self.data\n",
        "  \n",
        "  # def getNextNode(self):\n",
        "  #   return self.next\n",
        "  \n",
        "  # def getPreviousNote(self):\n",
        "  #   return self.previous\n"
      ],
      "metadata": {
        "id": "twtMJySMzsMq"
      },
      "execution_count": null,
      "outputs": []
    },
    {
      "cell_type": "code",
      "source": [
        "class LinkedList:\n",
        "  def __init__(self, head = None):\n",
        "    self.head = head\n",
        "  \n",
        "  def printList(self):\n",
        "    current = self.head\n",
        "    while current is not None:\n",
        "      print(current.data)\n",
        "      current = current.next\n",
        "  \n",
        "  def insert(self, data):\n",
        "    node = Node(data)\n",
        "    if self.head == None:\n",
        "      self.head = node\n",
        "    else:\n",
        "      current = self.head\n",
        "      while current.next is not None:\n",
        "        current = current.next\n",
        "      current.next = node\n",
        "  \n",
        "  def insertIndex(self, data, index):\n",
        "    if index == 0:\n",
        "      self.head = Node(data, self.head)\n",
        "    else:\n",
        "      previousIndexNode = self.getBeforeIndex(index)\n",
        "      node = Node(data, previousIndexNode.next)\n",
        "      previousIndexNode.next = node\n",
        "  \n",
        "  def remove(self, index):\n",
        "    if index == 0:\n",
        "      oldHead = self.headIndexNode = self.getBeforeIndex(index)\n",
        "      self.head = self.head.next\n",
        "      oldHead.next = None\n",
        "    else: \n",
        "      previousIndexNode = self.getBeforeIndex(index)\n",
        "      oldNode = previousIndexNode.next\n",
        "      previousIndexNode.next = previousIndexNode.next.next\n",
        "      oldNode.next = None\n",
        "\n",
        "  def setIndex(self, index, item):\n",
        "    if index == 0:\n",
        "      self.head.data = item\n",
        "    else:\n",
        "      previousIndexNode = self.getBeforeIndex(index)\n",
        "      previousIndexNode.next.data = item\n",
        "\n",
        "  def getBeforeIndex(self, index):\n",
        "    previousIndexNode = self.head\n",
        "    for num in range(index - 1, 0, -1):\n",
        "      previousIndexNode = previousIndexNode.next\n",
        "      if previousIndexNode is None:\n",
        "        raise Exception(\"Index out of bounds\")\n",
        "\n",
        "    return previousIndexNode\n"
      ],
      "metadata": {
        "id": "H-_hfn2i0X9h"
      },
      "execution_count": null,
      "outputs": []
    },
    {
      "cell_type": "code",
      "source": [
        "list1 = LinkedList()\n",
        "list1.insert(5)\n",
        "list1.insert(6)\n",
        "list1.insert(9)\n",
        "list1.insertIndex(1, 3)\n",
        "list1.printList()\n",
        "print(\"\")\n",
        "list1.remove(1)\n",
        "list1.remove(0)\n",
        "list1.printList()\n",
        "print(\"\")\n",
        "list1.setIndex(1, 5)\n",
        "list1.printList()"
      ],
      "metadata": {
        "colab": {
          "base_uri": "https://localhost:8080/"
        },
        "id": "eG3l-NF_4NK8",
        "outputId": "af2457ea-d2f8-4b31-8462-f0f47dc3aaac"
      },
      "execution_count": null,
      "outputs": [
        {
          "output_type": "stream",
          "name": "stdout",
          "text": [
            "5\n",
            "6\n",
            "9\n",
            "1\n",
            "\n",
            "9\n",
            "1\n",
            "\n",
            "9\n",
            "5\n"
          ]
        }
      ]
    }
  ]
}