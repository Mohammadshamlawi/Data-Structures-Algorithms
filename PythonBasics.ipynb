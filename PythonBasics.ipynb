{
  "nbformat": 4,
  "nbformat_minor": 0,
  "metadata": {
    "colab": {
      "provenance": []
    },
    "kernelspec": {
      "name": "python3",
      "display_name": "Python 3"
    },
    "language_info": {
      "name": "python"
    }
  },
  "cells": [
    {
      "cell_type": "code",
      "source": [
        "print(\"Print this text.\")"
      ],
      "metadata": {
        "colab": {
          "base_uri": "https://localhost:8080/"
        },
        "id": "bzpry5sGbYdc",
        "outputId": "7f9fa624-44e9-4f2e-f006-0ccb5d2d60dc"
      },
      "execution_count": null,
      "outputs": [
        {
          "output_type": "stream",
          "name": "stdout",
          "text": [
            "Print this text.\n"
          ]
        }
      ]
    },
    {
      "cell_type": "code",
      "source": [
        "salary = 2\n",
        "if salary >= 50:\n",
        "  print(\"50 or more.\")\n",
        "else:\n",
        "  print(\"Less than 50.\")\n"
      ],
      "metadata": {
        "colab": {
          "base_uri": "https://localhost:8080/"
        },
        "id": "lNjyhznmdFUA",
        "outputId": "a60351c3-3f4c-4d76-a28a-4a9d532232ca"
      },
      "execution_count": null,
      "outputs": [
        {
          "output_type": "stream",
          "name": "stdout",
          "text": [
            "Less than 50.\n"
          ]
        }
      ]
    },
    {
      "cell_type": "code",
      "execution_count": null,
      "metadata": {
        "colab": {
          "base_uri": "https://localhost:8080/"
        },
        "id": "QooJ7e-6H_TW",
        "outputId": "0fce5d69-3206-48d2-eb18-78050be397a4"
      },
      "outputs": [
        {
          "output_type": "execute_result",
          "data": {
            "text/plain": [
              "234"
            ]
          },
          "metadata": {},
          "execution_count": 4
        }
      ],
      "source": [
        "test = 234;\n",
        "test"
      ]
    },
    {
      "cell_type": "code",
      "source": [
        "num = 2.7\n",
        "# print num type\n",
        "print(type(num))"
      ],
      "metadata": {
        "colab": {
          "base_uri": "https://localhost:8080/"
        },
        "id": "klw7aOHce4Ru",
        "outputId": "3da33736-6bf8-4a3e-aa8b-cc6c8340589e"
      },
      "execution_count": null,
      "outputs": [
        {
          "output_type": "stream",
          "name": "stdout",
          "text": [
            "<class 'float'>\n"
          ]
        }
      ]
    },
    {
      "cell_type": "code",
      "source": [
        "com = 2+5j\n",
        "print(com)\n",
        "print(type(com))"
      ],
      "metadata": {
        "colab": {
          "base_uri": "https://localhost:8080/"
        },
        "id": "UNF1ME2zgVd-",
        "outputId": "a3cde221-5066-4daf-cbe1-a56cf435abe2"
      },
      "execution_count": null,
      "outputs": [
        {
          "output_type": "stream",
          "name": "stdout",
          "text": [
            "(2+5j)\n",
            "<class 'complex'>\n"
          ]
        }
      ]
    },
    {
      "cell_type": "code",
      "source": [
        "op = 3+1 * 4/ 2\n",
        "op2 = 3.0 * 2 / 5\n",
        "print(op)\n",
        "print(type(op))\n",
        "print(op2)\n",
        "print(type(op2))"
      ],
      "metadata": {
        "colab": {
          "base_uri": "https://localhost:8080/"
        },
        "id": "eyGM3hmigidV",
        "outputId": "776556ac-0a2e-4cf2-87c5-730cd56ba072"
      },
      "execution_count": null,
      "outputs": [
        {
          "output_type": "stream",
          "name": "stdout",
          "text": [
            "5.0\n",
            "<class 'float'>\n",
            "1.2\n",
            "<class 'float'>\n"
          ]
        }
      ]
    },
    {
      "cell_type": "code",
      "source": [
        "rem = 190 % 4\n",
        "rem2 = 190 % 3.4\n",
        "print(rem)\n",
        "print(type(rem))\n",
        "print(rem2)\n",
        "print(type(rem2))\n",
        "print(rem, rem2)"
      ],
      "metadata": {
        "colab": {
          "base_uri": "https://localhost:8080/"
        },
        "id": "ce9kYcxpg8bV",
        "outputId": "53858177-2145-4497-d241-658d47ed387d"
      },
      "execution_count": null,
      "outputs": [
        {
          "output_type": "stream",
          "name": "stdout",
          "text": [
            "2\n",
            "<class 'int'>\n",
            "3.000000000000005\n",
            "<class 'float'>\n",
            "2 3.000000000000005\n"
          ]
        }
      ]
    },
    {
      "cell_type": "code",
      "source": [
        "square = 3 ** 5\n",
        "square2 = 2.2 ** 3\n",
        "square3 = 4 ** 2.4\n",
        "print(square)\n",
        "print(square2)\n",
        "print(square3)"
      ],
      "metadata": {
        "colab": {
          "base_uri": "https://localhost:8080/"
        },
        "id": "p5S1xKfXhXCe",
        "outputId": "648bc511-9414-4876-9bc3-2652b492fed2"
      },
      "execution_count": null,
      "outputs": [
        {
          "output_type": "stream",
          "name": "stdout",
          "text": [
            "243\n",
            "10.648000000000003\n",
            "27.85761802547597\n"
          ]
        }
      ]
    },
    {
      "cell_type": "code",
      "source": [
        "str1 = \"Double quotations.\"\n",
        "str2 = 'Single quotations.'\n",
        "print(str1)\n",
        "print(str2)\n",
        "print(str1 + str2)\n",
        "print(str1, str2)\n",
        "# print(str1 + 2) not allowed. Should use next line\n",
        "print(str1, 3)\n",
        "print(type(str1))\n",
        "print(type(str2))"
      ],
      "metadata": {
        "colab": {
          "base_uri": "https://localhost:8080/"
        },
        "id": "_Ha20G5dieBK",
        "outputId": "f97f140a-b16f-41ea-e945-4662380b5875"
      },
      "execution_count": null,
      "outputs": [
        {
          "output_type": "stream",
          "name": "stdout",
          "text": [
            "Double quotations.\n",
            "Single quotations.\n",
            "Double quotations.Single quotations.\n",
            "Double quotations. Single quotations.\n",
            "Double quotations. 3\n",
            "<class 'str'>\n",
            "<class 'str'>\n"
          ]
        }
      ]
    },
    {
      "cell_type": "code",
      "source": [
        "str1 = \"Text.\"\n",
        "print(str1 * 4)"
      ],
      "metadata": {
        "colab": {
          "base_uri": "https://localhost:8080/"
        },
        "id": "1aMlSeeIj2UI",
        "outputId": "76f427cd-8034-4e55-bd0a-47e507c23c49"
      },
      "execution_count": null,
      "outputs": [
        {
          "output_type": "stream",
          "name": "stdout",
          "text": [
            "Text.Text.Text.Text.\n"
          ]
        }
      ]
    },
    {
      "cell_type": "code",
      "source": [
        "list1 = [1, 3, 5, 2, \"t\", \"e\", \"s\", \"t\", 2, \"2\"]\n",
        "print(list1, type(list1))\n",
        "print(list1[3:6])\n",
        "print(list1[1:9:3])\n",
        "print(list1[:])\n",
        "print(list1[::-1]) #Display the transposed list\n",
        "print(list1[5])\n",
        "print(list1[2])\n",
        "print(list1.count(2))\n",
        "list1.append(8)\n",
        "list1.append(\"go\")\n",
        "list1 = list1[::-1]\n",
        "print(list1[2:7:2])"
      ],
      "metadata": {
        "colab": {
          "base_uri": "https://localhost:8080/"
        },
        "id": "7OgguZSYlXEM",
        "outputId": "7520aa39-375a-4d51-9c6a-89008b68cea2"
      },
      "execution_count": null,
      "outputs": [
        {
          "output_type": "stream",
          "name": "stdout",
          "text": [
            "[1, 3, 5, 2, 't', 'e', 's', 't', 2, '2'] <class 'list'>\n",
            "[2, 't', 'e']\n",
            "[3, 't', 't']\n",
            "[1, 3, 5, 2, 't', 'e', 's', 't', 2, '2']\n",
            "['2', 2, 't', 's', 'e', 't', 2, 5, 3, 1]\n",
            "e\n",
            "5\n",
            "2\n",
            "['2', 't', 'e']\n"
          ]
        }
      ]
    },
    {
      "cell_type": "code",
      "source": [
        "num = 30\n",
        "print(num >= 2)\n",
        "print(num == 40)\n",
        "print(num <= 30)\n",
        "print(num != 30)"
      ],
      "metadata": {
        "colab": {
          "base_uri": "https://localhost:8080/"
        },
        "id": "VDfqA2tCmYDx",
        "outputId": "d361d1f0-a1cd-4ae5-eea0-db9590af855a"
      },
      "execution_count": null,
      "outputs": [
        {
          "output_type": "stream",
          "name": "stdout",
          "text": [
            "True\n",
            "False\n",
            "True\n",
            "False\n"
          ]
        }
      ]
    },
    {
      "cell_type": "code",
      "source": [
        "num1 = 12\n",
        "num2 = 181\n",
        "if num1 == 12 and num2 == 2:\n",
        "  print(\"num is\", num1, \"and num2 is\", num2)\n",
        "else:\n",
        "  print(\"Wrong Answer!\")\n",
        "\n",
        "if num1 <= 10 or num2 == 180:\n",
        "  print(\"Correct Answer!\")\n",
        "elif num1 in [\"Test\", 14, 13]:\n",
        "  print(\"num1 in test\")\n",
        "elif num1 is 12:\n",
        "  print(\"num1 is 12\")\n",
        "else:\n",
        "  print(\"All Wrong!\")"
      ],
      "metadata": {
        "colab": {
          "base_uri": "https://localhost:8080/"
        },
        "id": "pTCampsFmpAp",
        "outputId": "2f86450b-1ee2-4e05-e803-08e9288417d4"
      },
      "execution_count": null,
      "outputs": [
        {
          "output_type": "stream",
          "name": "stdout",
          "text": [
            "Wrong Answer!\n",
            "num1 is 12\n"
          ]
        }
      ]
    },
    {
      "cell_type": "code",
      "source": [
        "a = [2, 4, 8, 10]\n",
        "b = [2, 4, 8, 10]\n",
        "print(a == b)\n",
        "print(a is b)\n",
        "print(id(a))\n",
        "print(id(b)) #finds memory address of variable"
      ],
      "metadata": {
        "colab": {
          "base_uri": "https://localhost:8080/"
        },
        "id": "ONjsQoWtoK6E",
        "outputId": "40a18427-7e35-4bc5-9567-a2af6cab30db"
      },
      "execution_count": null,
      "outputs": [
        {
          "output_type": "stream",
          "name": "stdout",
          "text": [
            "True\n",
            "False\n",
            "139676151006144\n",
            "139676150336000\n"
          ]
        }
      ]
    },
    {
      "cell_type": "code",
      "source": [
        "a = 3\n",
        "b = 3\n",
        "print(a == b)\n",
        "print(a is b)\n",
        "print(a is not b)\n",
        "print(id(a))\n",
        "print(id(b))"
      ],
      "metadata": {
        "colab": {
          "base_uri": "https://localhost:8080/"
        },
        "id": "BFCrzkYCo2uw",
        "outputId": "7e5e0dc1-a6e8-4fb9-e28c-f32a6543206b"
      },
      "execution_count": null,
      "outputs": [
        {
          "output_type": "stream",
          "name": "stdout",
          "text": [
            "True\n",
            "True\n",
            "False\n",
            "11256128\n",
            "11256128\n"
          ]
        }
      ]
    },
    {
      "cell_type": "code",
      "source": [
        "nums = range(1, 9)\n",
        "for i in nums:\n",
        "  print(i+2)"
      ],
      "metadata": {
        "colab": {
          "base_uri": "https://localhost:8080/"
        },
        "id": "XoSdbYgrptTt",
        "outputId": "4fd45b56-4327-413d-edb3-2b12b453544a"
      },
      "execution_count": null,
      "outputs": [
        {
          "output_type": "stream",
          "name": "stdout",
          "text": [
            "3\n",
            "4\n",
            "5\n",
            "6\n",
            "7\n",
            "8\n",
            "9\n",
            "10\n"
          ]
        }
      ]
    },
    {
      "cell_type": "code",
      "source": [
        "for num in range(2,8, 2):\n",
        "  print(num)"
      ],
      "metadata": {
        "colab": {
          "base_uri": "https://localhost:8080/"
        },
        "id": "D6gtTX3-rE4i",
        "outputId": "d3c884fe-9e32-43f5-fae8-f667dbdee89b"
      },
      "execution_count": null,
      "outputs": [
        {
          "output_type": "stream",
          "name": "stdout",
          "text": [
            "2\n",
            "4\n",
            "6\n"
          ]
        }
      ]
    },
    {
      "cell_type": "code",
      "source": [
        "for num in range(1, 10, -1): #Does not work\n",
        "  print(num)\n",
        "for num in range(10, 1, -2):\n",
        "  print(num)"
      ],
      "metadata": {
        "colab": {
          "base_uri": "https://localhost:8080/"
        },
        "id": "fKoduCs5r_Uq",
        "outputId": "48ec2c12-8ed4-4e93-eebd-91deb7460487"
      },
      "execution_count": null,
      "outputs": [
        {
          "output_type": "stream",
          "name": "stdout",
          "text": [
            "10\n",
            "8\n",
            "6\n",
            "4\n",
            "2\n"
          ]
        }
      ]
    },
    {
      "cell_type": "code",
      "source": [
        "a = 1\n",
        "while a <= 20:\n",
        "  print(a)\n",
        "  a += 2"
      ],
      "metadata": {
        "colab": {
          "base_uri": "https://localhost:8080/"
        },
        "id": "ILFOC8citKmU",
        "outputId": "776161b3-86e3-4867-fd24-28052b27fb09"
      },
      "execution_count": null,
      "outputs": [
        {
          "output_type": "stream",
          "name": "stdout",
          "text": [
            "1\n",
            "3\n",
            "5\n",
            "7\n",
            "9\n",
            "11\n",
            "13\n",
            "15\n",
            "17\n",
            "19\n"
          ]
        }
      ]
    },
    {
      "cell_type": "code",
      "source": [
        "a = 10\n",
        "while True:\n",
        "  print(a)\n",
        "  a -= 1\n",
        "  if a == 0:\n",
        "    break"
      ],
      "metadata": {
        "colab": {
          "base_uri": "https://localhost:8080/"
        },
        "id": "dAJMDHrDtu77",
        "outputId": "0a613992-d90a-4baf-a004-c91b1ec048b4"
      },
      "execution_count": null,
      "outputs": [
        {
          "output_type": "stream",
          "name": "stdout",
          "text": [
            "10\n",
            "9\n",
            "8\n",
            "7\n",
            "6\n",
            "5\n",
            "4\n",
            "3\n",
            "2\n",
            "1\n"
          ]
        }
      ]
    },
    {
      "cell_type": "code",
      "source": [
        "for i in range(10):\n",
        "  if i > 2 and i <= 5:\n",
        "    continue\n",
        "  print(i)"
      ],
      "metadata": {
        "colab": {
          "base_uri": "https://localhost:8080/"
        },
        "id": "bNaHJt_tuCnN",
        "outputId": "5d689e4b-b68e-4b35-c102-873b72b18f26"
      },
      "execution_count": null,
      "outputs": [
        {
          "output_type": "stream",
          "name": "stdout",
          "text": [
            "0\n",
            "1\n",
            "2\n",
            "6\n",
            "7\n",
            "8\n",
            "9\n"
          ]
        }
      ]
    },
    {
      "cell_type": "code",
      "source": [
        "def new_function(first, second, third):\n",
        "  print(first, second + third)\n",
        "\n",
        "\n",
        "new_function(\"GG\", 3, 5)"
      ],
      "metadata": {
        "colab": {
          "base_uri": "https://localhost:8080/"
        },
        "id": "4kgh-yfPkwc7",
        "outputId": "4938a63a-4fb9-48b0-8883-fd549e53dab0"
      },
      "execution_count": null,
      "outputs": [
        {
          "output_type": "stream",
          "name": "stdout",
          "text": [
            "GG 8\n"
          ]
        }
      ]
    },
    {
      "cell_type": "code",
      "source": [
        "def function(A, B=\"Empty\"):\n",
        "  print(A + 3, B + \" List\")\n",
        "\n",
        "\n",
        "function(4)"
      ],
      "metadata": {
        "colab": {
          "base_uri": "https://localhost:8080/"
        },
        "id": "HENfIqAmlQxj",
        "outputId": "a983de6f-ed80-415c-8e5e-129c2ca12d66"
      },
      "execution_count": null,
      "outputs": [
        {
          "output_type": "stream",
          "name": "stdout",
          "text": [
            "7 Empty List\n"
          ]
        }
      ]
    },
    {
      "cell_type": "code",
      "source": [
        "def func(nums):\n",
        "  for num in nums:\n",
        "    print(num)\n",
        "\n",
        "\n",
        "func([1,2,3,4,5,6])"
      ],
      "metadata": {
        "colab": {
          "base_uri": "https://localhost:8080/"
        },
        "id": "K44YqkMjm0BO",
        "outputId": "b87e6175-f1ae-41f1-e059-fd102a8a80d7"
      },
      "execution_count": null,
      "outputs": [
        {
          "output_type": "stream",
          "name": "stdout",
          "text": [
            "1\n",
            "2\n",
            "3\n",
            "4\n",
            "5\n",
            "6\n"
          ]
        }
      ]
    },
    {
      "cell_type": "code",
      "source": [
        "def multiply(nums):\n",
        "  result = 1\n",
        "  for num in nums:\n",
        "    result *= num\n",
        "  \n",
        "  return result\n",
        "\n",
        "print(multiply([3,4,5]))"
      ],
      "metadata": {
        "colab": {
          "base_uri": "https://localhost:8080/"
        },
        "id": "Du23TopAnhKd",
        "outputId": "c7748245-c7ff-4461-f354-45999614d2a6"
      },
      "execution_count": null,
      "outputs": [
        {
          "output_type": "stream",
          "name": "stdout",
          "text": [
            "60\n"
          ]
        }
      ]
    },
    {
      "cell_type": "code",
      "source": [
        "num = 3\n",
        "isinstance(num, float)"
      ],
      "metadata": {
        "id": "YQ5eYysvd2qQ"
      },
      "execution_count": null,
      "outputs": []
    },
    {
      "cell_type": "code",
      "source": [
        "isinstance([1], list)"
      ],
      "metadata": {
        "colab": {
          "base_uri": "https://localhost:8080/"
        },
        "id": "4xS9n6GfPuDa",
        "outputId": "1683b230-339f-46d8-be04-0c0b4ca9f9c3"
      },
      "execution_count": null,
      "outputs": [
        {
          "output_type": "execute_result",
          "data": {
            "text/plain": [
              "True"
            ]
          },
          "metadata": {},
          "execution_count": 5
        }
      ]
    }
  ]
}