{
  "nbformat": 4,
  "nbformat_minor": 0,
  "metadata": {
    "colab": {
      "provenance": []
    },
    "kernelspec": {
      "name": "python3",
      "display_name": "Python 3"
    },
    "language_info": {
      "name": "python"
    }
  },
  "cells": [
    {
      "cell_type": "code",
      "execution_count": null,
      "metadata": {
        "id": "WCrVkJY3eQu3"
      },
      "outputs": [],
      "source": [
        "def linearSearch(a, x):\n",
        "  for i in range(0, len(a)):\n",
        "    if a[i] == x:\n",
        "      return i\n",
        "  return None\n",
        "\n",
        "def binarySearch(a, x):\n",
        "  start = 0\n",
        "  end = len(a) - 1\n",
        "\n",
        "  while start <= end:\n",
        "    mid = (start + end) // 2\n",
        "    if a[mid] == x:\n",
        "      return mid\n",
        "    elif a[mid] > x:\n",
        "      end = mid - 1\n",
        "    else:\n",
        "      start = mid + 1\n",
        "  return None"
      ]
    },
    {
      "cell_type": "code",
      "source": [
        "l = range(0, 500)\n",
        "binarySearch(l, 251)"
      ],
      "metadata": {
        "colab": {
          "base_uri": "https://localhost:8080/"
        },
        "id": "qdTyvIjy8T3f",
        "outputId": "c87b4fd4-8996-46c6-f485-10d2a28367bc"
      },
      "execution_count": null,
      "outputs": [
        {
          "output_type": "execute_result",
          "data": {
            "text/plain": [
              "[251, 8]"
            ]
          },
          "metadata": {},
          "execution_count": 3
        }
      ]
    }
  ]
}