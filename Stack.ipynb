{
  "nbformat": 4,
  "nbformat_minor": 0,
  "metadata": {
    "colab": {
      "provenance": []
    },
    "kernelspec": {
      "name": "python3",
      "display_name": "Python 3"
    },
    "language_info": {
      "name": "python"
    }
  },
  "cells": [
    {
      "cell_type": "code",
      "execution_count": null,
      "metadata": {
        "id": "f2VoxhZCY_dP"
      },
      "outputs": [],
      "source": [
        "class Stack:\n",
        "  def __init__ (self, size):\n",
        "    self.top = -1\n",
        "    self.size = size\n",
        "    self.items = [None] * size\n",
        "\n",
        "  #Add a new item to the stack\n",
        "  def push(self, item):\n",
        "    if self.top == self.size - 1:\n",
        "      raise Exception(\"Stack size exceeded\")\n",
        "    else:\n",
        "      self.top += 1\n",
        "      self.items[self.top] = item\n",
        "\n",
        "  # Remove the top of the stack and return it\n",
        "  def pop(self):\n",
        "    if self.top == -1:\n",
        "      raise Exception(\"Stack is empty\")\n",
        "    else:\n",
        "      old = self.items[self.top]\n",
        "      self.items[self.top] = None\n",
        "      self.top -= 1\n",
        "      return old\n",
        "  \n",
        "  def topItem(self):\n",
        "    if self.top == -1:\n",
        "      raise Exception(\"Stack is empty\")\n",
        "    else:\n",
        "      return self.items[self.top]"
      ]
    },
    {
      "cell_type": "code",
      "source": [
        "stack = Stack(5)\n",
        "# stack.pop()\n",
        "stack.push(5)\n",
        "print(stack.topItem())\n",
        "stack.push(\"GG\")\n",
        "print(stack.topItem())\n",
        "# stack.items"
      ],
      "metadata": {
        "colab": {
          "base_uri": "https://localhost:8080/"
        },
        "id": "wRGCxwJNkX1G",
        "outputId": "7deceade-37cc-48ac-9385-48179166c1e9"
      },
      "execution_count": null,
      "outputs": [
        {
          "output_type": "stream",
          "name": "stdout",
          "text": [
            "5\n",
            "GG\n"
          ]
        }
      ]
    },
    {
      "cell_type": "markdown",
      "source": [
        "## **Stack with Linked List**"
      ],
      "metadata": {
        "id": "87JSh8vAZw9V"
      }
    },
    {
      "cell_type": "code",
      "source": [
        "class Node:\n",
        "  def __init__(self, data = None, next = None):\n",
        "    self.data = data\n",
        "    self.next = next"
      ],
      "metadata": {
        "id": "vjv5_tSZZoUs"
      },
      "execution_count": null,
      "outputs": []
    },
    {
      "cell_type": "code",
      "source": [
        "class StackLinkedList:\n",
        "  def __init__(self, head = None):\n",
        "    self.head = head\n",
        "\n",
        "  def push(self, data):\n",
        "    if self.head == None:\n",
        "      self.head = Node(data)\n",
        "    else:\n",
        "      self.head = Node(data, self.head)\n",
        "  \n",
        "  def pop(self):\n",
        "    if self.head == None:\n",
        "      raise Exception(\"Stack is empty\")\n",
        "    else:\n",
        "      oldTop = self.head\n",
        "      if oldTop.next != None:\n",
        "        self.head = self.head.next\n",
        "      else:\n",
        "        self.head = None\n",
        "\n",
        "      oldTop.next = None\n",
        "      return oldTop.data\n",
        "\n",
        "  def getTop(self):\n",
        "    if self.head == None:\n",
        "      raise Exception(\"Stack is empty\")\n",
        "    else:\n",
        "      return self.head.data"
      ],
      "metadata": {
        "id": "CTo3yL1oecgw"
      },
      "execution_count": null,
      "outputs": []
    }
  ]
}