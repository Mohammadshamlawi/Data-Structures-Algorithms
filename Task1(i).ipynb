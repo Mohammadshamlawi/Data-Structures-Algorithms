{
  "nbformat": 4,
  "nbformat_minor": 0,
  "metadata": {
    "colab": {
      "provenance": []
    },
    "kernelspec": {
      "name": "python3",
      "display_name": "Python 3"
    },
    "language_info": {
      "name": "python"
    }
  },
  "cells": [
    {
      "cell_type": "code",
      "execution_count": null,
      "metadata": {
        "id": "vOzceC17_mcL"
      },
      "outputs": [],
      "source": [
        "def mergeRecursive(a):\n",
        "  # n is the size of the array\n",
        "  n = len(a)\n",
        "\n",
        "  # if size of array is smaller than 2, meaning size is 1, then abort function\n",
        "  if n < 2:\n",
        "    return\n",
        "  \n",
        "  # to get two halfs of the array, we need the middle index of the original array\n",
        "  mid = n // 2\n",
        "\n",
        "  # left array is the first half of the array, which has a size of mid\n",
        "  left = [None] * mid\n",
        "  # right array is the second half of the array, which has a size of n - mid for if the original array has an odd size\n",
        "  right = [None] * (n - mid)\n",
        "\n",
        "  # populate the left array with the first half of the original array, from index 0 to index mid - 1\n",
        "  for i in range(0, mid):\n",
        "    left[i] = a[i]\n",
        "  # populate the right array with the second half of the original array, from index mid to n - 1\n",
        "  for i in range(mid, n):\n",
        "    right[i - mid] = a[i]\n",
        "\n",
        "  # call the function again to split the left array into two halfs again, till left array returns sorted\n",
        "  mergeRecursive(left)\n",
        "  # call the function again to split the right array into two halfs again, till right array returns sorted\n",
        "  mergeRecursive(right)\n",
        "\n",
        "  # nLeft is the size of the left array\n",
        "  nLeft = len(left)\n",
        "  # nRight is the size of the right array\n",
        "  nRight = len(right)\n",
        "\n",
        "  # initialize i, j, k variables to the value zero\n",
        "  # k in an index used to iterate through the original array's elements\n",
        "  # i is the index used to iterate through the left array's elements\n",
        "  # k is the index used to iterate through the right array's elements\n",
        "  i = j = k = 0\n",
        "  \n",
        "  # start the sorting process\n",
        "  # the smallest element from each left and right array is taken and added to the original array using the index k\n",
        "  while i < nLeft and j < nRight:\n",
        "    if left[i] <= right[j]:\n",
        "      # if the element of index i in the left array is smaller than the element of index j in the right array \n",
        "      # then add it to the original array using index k\n",
        "      a[k] = left[i]\n",
        "      i += 1\n",
        "    else:\n",
        "      # if the element of index i in the left array is greater than the element of index j in the right array \n",
        "      # then add the element of the right array to the original array using index k\n",
        "      a[k] = right[j]\n",
        "      j += 1\n",
        "    # increment index k to not cause an infinite loop\n",
        "    k += 1\n",
        "  \n",
        "  # if there are still elements in left array not yet added to the original array, then add them\n",
        "  while i < nLeft:\n",
        "    a[k] = left[i]\n",
        "    # increment index i to cause an infinite loop\n",
        "    i += 1\n",
        "    k += 1\n",
        "  \n",
        "  # if there are still elements in right array not yet added to the original array, then add them\n",
        "  while j < nRight:\n",
        "    a[k] = right[j]\n",
        "    j += 1\n",
        "    k += 1\n",
        "\n",
        "  # return sorted array\n",
        "  return a\n"
      ]
    },
    {
      "cell_type": "code",
      "source": [
        "a = [4, 8, 2, 10, 234, 52, 23, 8, -1]\n",
        "mergeRecursive(a)"
      ],
      "metadata": {
        "colab": {
          "base_uri": "https://localhost:8080/"
        },
        "id": "Dak9efsjIDRB",
        "outputId": "b46dd93c-640a-48bb-a93e-9724271d6b15"
      },
      "execution_count": null,
      "outputs": [
        {
          "output_type": "execute_result",
          "data": {
            "text/plain": [
              "[-1, 2, 4, 8, 8, 10, 23, 52, 234]"
            ]
          },
          "metadata": {},
          "execution_count": 15
        }
      ]
    }
  ]
}